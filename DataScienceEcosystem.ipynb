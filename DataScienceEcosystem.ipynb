{
 "cells": [
  {
   "cell_type": "markdown",
   "id": "6bbc466e-f3cb-4d87-9e51-74bd8056c3fd",
   "metadata": {},
   "source": [
    "Exercise 1: Create a Jupyter Notebook"
   ]
  },
  {
   "cell_type": "markdown",
   "id": "63c41eda-c08f-43a4-98fa-5517e94b8ffe",
   "metadata": {},
   "source": [
    "Exercise 2: Create markdown cell with title of notebook"
   ]
  },
  {
   "cell_type": "markdown",
   "id": "9179b632-4625-44f9-b77a-53cd631a6081",
   "metadata": {},
   "source": [
    "# Data Science Tools And Ecosystem"
   ]
  },
  {
   "cell_type": "markdown",
   "id": "bc31315d-e624-406c-b524-0d0b1240daab",
   "metadata": {},
   "source": [
    "Exercise 3: Create a markdown cell for an introduction"
   ]
  },
  {
   "cell_type": "markdown",
   "id": "7593f40a-accf-46a4-b2f1-2f967374b42e",
   "metadata": {},
   "source": [
    "Data Science Tools and Ecosystem are summarized"
   ]
  },
  {
   "cell_type": "markdown",
   "id": "216f5c18-6960-483e-8cdd-c117c14ca38c",
   "metadata": {},
   "source": [
    "Exercise 10: Insert a markdowncell to list Objectives"
   ]
  },
  {
   "cell_type": "markdown",
   "id": "ebb7275a-201a-4d43-acfb-19d587cbc2ea",
   "metadata": {},
   "source": [
    "**Objectives:**\n",
    "+ Data Exploration\n",
    "+ Mode Development and Deployment\n",
    "+ collaboration sharing\n",
    "+ Data Visualisation\n",
    "+ Automation\n",
    "+ Scalability and performance"
   ]
  },
  {
   "cell_type": "markdown",
   "id": "7630881c-6285-4597-bd8f-359f3a4a7145",
   "metadata": {},
   "source": [
    "Exercise 4: Create a markdown cell to list data science languages"
   ]
  },
  {
   "cell_type": "markdown",
   "id": "587e5435-33b8-4cf6-ac3a-8dfe09348cdc",
   "metadata": {},
   "source": [
    "Some of the popular languages that data scientists use are\n",
    ":\n",
    "1. Python\n",
    "2. R\n",
    "3. SQL"
   ]
  },
  {
   "cell_type": "markdown",
   "id": "2f2571b1-844c-44fb-86f0-e653e1b7f7e2",
   "metadata": {},
   "source": [
    "Exercise 5: Create a markdown cell to list data science libraries"
   ]
  },
  {
   "cell_type": "markdown",
   "id": "a866d6ce-90cf-4690-820a-8531480b070b",
   "metadata": {},
   "source": [
    "Some of the commonly used libraries used by Data Scientists include:\n",
    "1. NumPy\n",
    "2. Pandas\n",
    "3. Matplotlib\n",
    "4. Scikit-learn\n"
   ]
  },
  {
   "cell_type": "markdown",
   "id": "c8780f5c-6b10-47f6-8563-4c49ac6f9670",
   "metadata": {},
   "source": [
    "Exrcise 6: Create a markdown cell with a table of Data Science tools"
   ]
  },
  {
   "cell_type": "markdown",
   "id": "9d8f1f0e-01c4-4fe6-91aa-1e64abe126f6",
   "metadata": {},
   "source": [
    "| Data Science Tools |\n",
    "|--------------------\n",
    "| Jupytet Notebook |\n",
    "| VS  Code |\n",
    "| Spyder |"
   ]
  },
  {
   "cell_type": "markdown",
   "id": "cae06845-8acc-41f4-88df-35989a3468ed",
   "metadata": {},
   "source": [
    "Exercise 7: Create a markdown cell introducing arithmetic expression examples"
   ]
  },
  {
   "cell_type": "markdown",
   "id": "533b66c3-0199-4a60-83f3-d586e5730e17",
   "metadata": {},
   "source": [
    "### Below are a few example of evaluating arithmetic expressions in Python."
   ]
  },
  {
   "cell_type": "markdown",
   "id": "74546899-8964-4625-a9f1-218e5228ddc1",
   "metadata": {},
   "source": [
    "Exercise 8: Create a code cell to multiply and add numbers"
   ]
  },
  {
   "cell_type": "code",
   "execution_count": 10,
   "id": "0b8e25a1-8b7a-4af9-abf0-e05bf21f3b4b",
   "metadata": {},
   "outputs": [],
   "source": [
    "# This is a simple arithmetic expression to multiply the add integers"
   ]
  },
  {
   "cell_type": "code",
   "execution_count": 13,
   "id": "45471e25-9fc1-4611-9e29-7a73e93077ad",
   "metadata": {},
   "outputs": [
    {
     "data": {
      "text/plain": [
       "17"
      ]
     },
     "execution_count": 13,
     "metadata": {},
     "output_type": "execute_result"
    }
   ],
   "source": [
    "(3*4)+5"
   ]
  },
  {
   "cell_type": "markdown",
   "id": "4ed8444d-102a-42cb-a726-20a8f6bfc5bc",
   "metadata": {},
   "source": [
    "Exercise 9: Create a code cell to convert minutes to hours"
   ]
  },
  {
   "cell_type": "code",
   "execution_count": 14,
   "id": "599337ce-d73c-473c-a9bc-fbda97cc2b7c",
   "metadata": {},
   "outputs": [],
   "source": [
    "# This will convert 200 minutes to hours 200/60"
   ]
  },
  {
   "cell_type": "code",
   "execution_count": 15,
   "id": "97a88ab4-e1e6-4895-bb0f-d5113bef3b9d",
   "metadata": {},
   "outputs": [
    {
     "data": {
      "text/plain": [
       "3.3333333333333335"
      ]
     },
     "execution_count": 15,
     "metadata": {},
     "output_type": "execute_result"
    }
   ],
   "source": [
    "200/60"
   ]
  },
  {
   "cell_type": "markdown",
   "id": "719911a6-7b79-4902-be45-caa978864b2a",
   "metadata": {},
   "source": [
    "Exercise 11: create a markdown cell to indicate the Auhtor's name"
   ]
  },
  {
   "cell_type": "markdown",
   "id": "cf78acd5-4e7c-433f-8582-df3cb5abedc7",
   "metadata": {},
   "source": [
    "## Author\n",
    "Ugwuoke Shedrack chinonso"
   ]
  },
  {
   "cell_type": "code",
   "execution_count": null,
   "id": "eaa7428b-d8cc-4b7e-98ad-806c037498ce",
   "metadata": {},
   "outputs": [],
   "source": []
  }
 ],
 "metadata": {
  "kernelspec": {
   "display_name": "Python [conda env:base] *",
   "language": "python",
   "name": "conda-base-py"
  },
  "language_info": {
   "codemirror_mode": {
    "name": "ipython",
    "version": 3
   },
   "file_extension": ".py",
   "mimetype": "text/x-python",
   "name": "python",
   "nbconvert_exporter": "python",
   "pygments_lexer": "ipython3",
   "version": "3.12.7"
  }
 },
 "nbformat": 4,
 "nbformat_minor": 5
}
